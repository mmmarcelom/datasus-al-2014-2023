{
 "cells": [
  {
   "cell_type": "markdown",
   "metadata": {},
   "source": [
    "Para o projeto, vamos utilizar a biblioteca PySUS criada por fccoelho.\n",
    "\n",
    "Mais informações podem ser encontradas através dos links abaixo:\n",
    "\n",
    "Github:\n",
    "https://github.com/AlertaDengue/PySUS\n",
    "\n",
    "Documentação:\n",
    "https://pysus.readthedocs.io/en/latest/tutorials.html#working-with-sih-data"
   ]
  },
  {
   "cell_type": "markdown",
   "metadata": {},
   "source": [
    "Para realizar o download, precisaremos das seguintes bibliotecas e métodos:"
   ]
  },
  {
   "cell_type": "code",
   "execution_count": 3,
   "metadata": {},
   "outputs": [],
   "source": [
    "from pysus.online_data.SIH import download\n",
    "from pysus.online_data import parquets_to_dataframe\n",
    "import pandas as pd\n",
    "import csv"
   ]
  },
  {
   "cell_type": "markdown",
   "metadata": {},
   "source": [
    "Como o dataset é muito grande e só utilizaremos algumas colunas no projeto, vamos primeiro listar e escolher as colunas que serão utilizadas."
   ]
  },
  {
   "cell_type": "code",
   "execution_count": 10,
   "metadata": {},
   "outputs": [],
   "source": [
    "# Faz download de um pequeno subset dos dados (escolhi arbitrariamente jan/2015).\n",
    "df_test = parquets_to_dataframe(download(states='AL', years=2015, months=1))\n",
    "\n",
    "# Cria uma lista de listas com os nomes das colunas, visto que usaremos a função writerows.\n",
    "lista = [[coluna] for coluna in df_test.columns.tolist()]\n",
    "\n",
    "# Cria um csv com os nomes das colunas.\n",
    "with open('nome_colunas.csv', 'w', newline='') as arquivo:\n",
    "    csv_writer = csv.writer(arquivo)\n",
    "    csv_writer.writerows(lista)"
   ]
  },
  {
   "cell_type": "markdown",
   "metadata": {},
   "source": [
    "O significado de cada coluna pode ser encontrado no link abaixo.\n",
    "[ INSERIR LINK ]\n",
    "\n",
    "Após analizar as colunas, foram escolhidas as seguintes colunas:"
   ]
  },
  {
   "cell_type": "code",
   "execution_count": 1,
   "metadata": {},
   "outputs": [],
   "source": [
    "colunas = [\n",
    "    'UF_ZI',\n",
    "    'ANO_CMPT',\n",
    "    'MES_CMPT',\n",
    "    'ESPEC',\n",
    "    'CGC_HOSP',\n",
    "    'N_AIH',\n",
    "    'IDENT',\n",
    "    'CEP',\n",
    "    'MUNIC_RES'\n",
    "]"
   ]
  },
  {
   "cell_type": "markdown",
   "metadata": {},
   "source": [
    "Como para o projeto só utilizaremos dados de Maceió, podemos filtrar as linhas através do valor da coluna 'MUNIC_RES' que é o código do municipio no IBGE.\n",
    "\n",
    "Através do site abaixo é possível consultar o código dos municípios no IBGE.  \n",
    "https://www.ibge.gov.br/explica/codigos-dos-municipios.php\n",
    "\n",
    "O código de Maceió é 2704302"
   ]
  },
  {
   "cell_type": "code",
   "execution_count": 4,
   "metadata": {},
   "outputs": [
    {
     "name": "stdout",
     "output_type": "stream",
     "text": [
      "Iniciando download: 1/2014... Download realizado com sucesso.\n",
      "Dataframe agora possuí 13964 linhas.\n",
      "\n",
      "Iniciando download: 2/2014... Download realizado com sucesso.\n",
      "Dataframe agora possuí 26897 linhas.\n",
      "\n",
      "Iniciando download: 1/2015... Download realizado com sucesso.\n",
      "Dataframe agora possuí 40197 linhas.\n",
      "\n",
      "Iniciando download: 2/2015... Download realizado com sucesso.\n",
      "Dataframe agora possuí 53706 linhas.\n",
      "\n"
     ]
    },
    {
     "data": {
      "text/html": [
       "<div>\n",
       "<style scoped>\n",
       "    .dataframe tbody tr th:only-of-type {\n",
       "        vertical-align: middle;\n",
       "    }\n",
       "\n",
       "    .dataframe tbody tr th {\n",
       "        vertical-align: top;\n",
       "    }\n",
       "\n",
       "    .dataframe thead th {\n",
       "        text-align: right;\n",
       "    }\n",
       "</style>\n",
       "<table border=\"1\" class=\"dataframe\">\n",
       "  <thead>\n",
       "    <tr style=\"text-align: right;\">\n",
       "      <th></th>\n",
       "      <th>UF_ZI</th>\n",
       "      <th>ANO_CMPT</th>\n",
       "      <th>MES_CMPT</th>\n",
       "      <th>ESPEC</th>\n",
       "      <th>CGC_HOSP</th>\n",
       "      <th>N_AIH</th>\n",
       "      <th>IDENT</th>\n",
       "      <th>CEP</th>\n",
       "      <th>MUNIC_RES</th>\n",
       "    </tr>\n",
       "  </thead>\n",
       "  <tbody>\n",
       "    <tr>\n",
       "      <th>0</th>\n",
       "      <td>270000</td>\n",
       "      <td>2014</td>\n",
       "      <td>01</td>\n",
       "      <td>01</td>\n",
       "      <td>12200259000408</td>\n",
       "      <td>2714103222512</td>\n",
       "      <td>1</td>\n",
       "      <td>57303785</td>\n",
       "      <td>270030</td>\n",
       "    </tr>\n",
       "    <tr>\n",
       "      <th>1</th>\n",
       "      <td>270000</td>\n",
       "      <td>2014</td>\n",
       "      <td>01</td>\n",
       "      <td>03</td>\n",
       "      <td>12200259000408</td>\n",
       "      <td>2714103221742</td>\n",
       "      <td>1</td>\n",
       "      <td>57260000</td>\n",
       "      <td>270420</td>\n",
       "    </tr>\n",
       "    <tr>\n",
       "      <th>2</th>\n",
       "      <td>270000</td>\n",
       "      <td>2014</td>\n",
       "      <td>01</td>\n",
       "      <td>03</td>\n",
       "      <td>12200259000408</td>\n",
       "      <td>2714103221753</td>\n",
       "      <td>1</td>\n",
       "      <td>57313060</td>\n",
       "      <td>270030</td>\n",
       "    </tr>\n",
       "    <tr>\n",
       "      <th>3</th>\n",
       "      <td>270000</td>\n",
       "      <td>2014</td>\n",
       "      <td>01</td>\n",
       "      <td>03</td>\n",
       "      <td>12200259000408</td>\n",
       "      <td>2714103221764</td>\n",
       "      <td>1</td>\n",
       "      <td>57560000</td>\n",
       "      <td>270250</td>\n",
       "    </tr>\n",
       "    <tr>\n",
       "      <th>4</th>\n",
       "      <td>270000</td>\n",
       "      <td>2014</td>\n",
       "      <td>01</td>\n",
       "      <td>03</td>\n",
       "      <td>12200259000408</td>\n",
       "      <td>2714103221775</td>\n",
       "      <td>1</td>\n",
       "      <td>57300620</td>\n",
       "      <td>270030</td>\n",
       "    </tr>\n",
       "  </tbody>\n",
       "</table>\n",
       "</div>"
      ],
      "text/plain": [
       "    UF_ZI ANO_CMPT MES_CMPT ESPEC        CGC_HOSP          N_AIH IDENT  \\\n",
       "0  270000     2014       01    01  12200259000408  2714103222512     1   \n",
       "1  270000     2014       01    03  12200259000408  2714103221742     1   \n",
       "2  270000     2014       01    03  12200259000408  2714103221753     1   \n",
       "3  270000     2014       01    03  12200259000408  2714103221764     1   \n",
       "4  270000     2014       01    03  12200259000408  2714103221775     1   \n",
       "\n",
       "        CEP MUNIC_RES  \n",
       "0  57303785    270030  \n",
       "1  57260000    270420  \n",
       "2  57313060    270030  \n",
       "3  57560000    270250  \n",
       "4  57300620    270030  "
      ]
     },
     "execution_count": 4,
     "metadata": {},
     "output_type": "execute_result"
    }
   ],
   "source": [
    "df_consolidado = pd.DataFrame()\n",
    "\n",
    "for ano in range(2014, 2023+1): # +1 visto que o método range() é não inclusivo\n",
    "    for mes in range(1,12+1):\n",
    "        print(f'Iniciando download: {mes}/{ano}...', end=' ')\n",
    "        \n",
    "        dados = download(states='AL', years=ano, months=mes)\n",
    "        print(f'Download realizado com sucesso.')\n",
    "\n",
    "        # Converte os dados baixados em um dataframe\n",
    "        df = parquets_to_dataframe(dados)\n",
    "        \n",
    "        # Filtra apenas registros de Maceió\n",
    "        df = df[df['MUNIC_RES']==2704302]\n",
    "\n",
    "        # Filtra apenas as colunas \n",
    "        df = df[colunas] \n",
    "        \n",
    "        df_consolidado = pd.concat([df_consolidado, df])\n",
    "        \n",
    "        print(f'Dataframe agora possuí {df.shape[0]} linhas.\\n')\n",
    "        \n",
    "print('Download concluído')"
   ]
  },
  {
   "cell_type": "code",
   "execution_count": 5,
   "metadata": {},
   "outputs": [],
   "source": [
    "df.to_csv('SIH_SUS_AL-2014-2023.csv', sep=',', encoding='utf-8', index=False, compression='gzip')"
   ]
  },
  {
   "cell_type": "markdown",
   "metadata": {},
   "source": [
    "Caso você tenha algum problema em realizar o download dessa forma, também é possível fazer o download de todos os arquivos dbc e converte-los."
   ]
  },
  {
   "cell_type": "code",
   "execution_count": null,
   "metadata": {},
   "outputs": [],
   "source": [
    "import pysus.utilities.readdbc as dbc\n",
    "df = dbc.read_dbc('dbc_files/RDAL2201.dbc')\n",
    "df.head()"
   ]
  }
 ],
 "metadata": {
  "kernelspec": {
   "display_name": "venv",
   "language": "python",
   "name": "python3"
  },
  "language_info": {
   "codemirror_mode": {
    "name": "ipython",
    "version": 3
   },
   "file_extension": ".py",
   "mimetype": "text/x-python",
   "name": "python",
   "nbconvert_exporter": "python",
   "pygments_lexer": "ipython3",
   "version": "3.10.12"
  },
  "orig_nbformat": 4
 },
 "nbformat": 4,
 "nbformat_minor": 2
}
