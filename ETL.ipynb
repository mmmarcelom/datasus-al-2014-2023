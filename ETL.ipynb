{
 "cells": [
  {
   "cell_type": "markdown",
   "metadata": {},
   "source": [
    "# ETL\n",
    "\n",
    "Utilizando o arquivo criado com o notebook download, vamos começar a processar os dados."
   ]
  },
  {
   "cell_type": "markdown",
   "metadata": {},
   "source": [
    "## Exploração inicial"
   ]
  },
  {
   "cell_type": "code",
   "execution_count": null,
   "metadata": {},
   "outputs": [],
   "source": [
    "import pandas as pd\n",
    "\n",
    "df = pd.read_csv('SIH_SUS_AL-2014-2023.csv')"
   ]
  },
  {
   "cell_type": "code",
   "execution_count": 13,
   "metadata": {},
   "outputs": [
    {
     "data": {
      "text/html": [
       "<div>\n",
       "<style scoped>\n",
       "    .dataframe tbody tr th:only-of-type {\n",
       "        vertical-align: middle;\n",
       "    }\n",
       "\n",
       "    .dataframe tbody tr th {\n",
       "        vertical-align: top;\n",
       "    }\n",
       "\n",
       "    .dataframe thead th {\n",
       "        text-align: right;\n",
       "    }\n",
       "</style>\n",
       "<table border=\"1\" class=\"dataframe\">\n",
       "  <thead>\n",
       "    <tr style=\"text-align: right;\">\n",
       "      <th></th>\n",
       "      <th>UF_ZI</th>\n",
       "      <th>ANO_CMPT</th>\n",
       "      <th>MES_CMPT</th>\n",
       "      <th>CEP</th>\n",
       "      <th>MUNIC_RES</th>\n",
       "      <th>SEXO</th>\n",
       "      <th>IDADE</th>\n",
       "      <th>CID_NOTIF</th>\n",
       "      <th>VAL_TOT</th>\n",
       "    </tr>\n",
       "  </thead>\n",
       "  <tbody>\n",
       "    <tr>\n",
       "      <th>0</th>\n",
       "      <td>270000</td>\n",
       "      <td>2014</td>\n",
       "      <td>1</td>\n",
       "      <td>57303785</td>\n",
       "      <td>270030</td>\n",
       "      <td>1.0</td>\n",
       "      <td>21.0</td>\n",
       "      <td>NaN</td>\n",
       "      <td>205.91</td>\n",
       "    </tr>\n",
       "    <tr>\n",
       "      <th>1</th>\n",
       "      <td>270000</td>\n",
       "      <td>2014</td>\n",
       "      <td>1</td>\n",
       "      <td>57260000</td>\n",
       "      <td>270420</td>\n",
       "      <td>1.0</td>\n",
       "      <td>28.0</td>\n",
       "      <td>NaN</td>\n",
       "      <td>426.29</td>\n",
       "    </tr>\n",
       "    <tr>\n",
       "      <th>2</th>\n",
       "      <td>270000</td>\n",
       "      <td>2014</td>\n",
       "      <td>1</td>\n",
       "      <td>57313060</td>\n",
       "      <td>270030</td>\n",
       "      <td>1.0</td>\n",
       "      <td>91.0</td>\n",
       "      <td>NaN</td>\n",
       "      <td>44.22</td>\n",
       "    </tr>\n",
       "    <tr>\n",
       "      <th>3</th>\n",
       "      <td>270000</td>\n",
       "      <td>2014</td>\n",
       "      <td>1</td>\n",
       "      <td>57560000</td>\n",
       "      <td>270250</td>\n",
       "      <td>1.0</td>\n",
       "      <td>28.0</td>\n",
       "      <td>NaN</td>\n",
       "      <td>40.38</td>\n",
       "    </tr>\n",
       "    <tr>\n",
       "      <th>4</th>\n",
       "      <td>270000</td>\n",
       "      <td>2014</td>\n",
       "      <td>1</td>\n",
       "      <td>57300620</td>\n",
       "      <td>270030</td>\n",
       "      <td>1.0</td>\n",
       "      <td>50.0</td>\n",
       "      <td>NaN</td>\n",
       "      <td>40.38</td>\n",
       "    </tr>\n",
       "  </tbody>\n",
       "</table>\n",
       "</div>"
      ],
      "text/plain": [
       "    UF_ZI  ANO_CMPT  MES_CMPT       CEP  MUNIC_RES  SEXO  IDADE CID_NOTIF  \\\n",
       "0  270000      2014         1  57303785     270030   1.0   21.0       NaN   \n",
       "1  270000      2014         1  57260000     270420   1.0   28.0       NaN   \n",
       "2  270000      2014         1  57313060     270030   1.0   91.0       NaN   \n",
       "3  270000      2014         1  57560000     270250   1.0   28.0       NaN   \n",
       "4  270000      2014         1  57300620     270030   1.0   50.0       NaN   \n",
       "\n",
       "   VAL_TOT  \n",
       "0   205.91  \n",
       "1   426.29  \n",
       "2    44.22  \n",
       "3    40.38  \n",
       "4    40.38  "
      ]
     },
     "execution_count": 13,
     "metadata": {},
     "output_type": "execute_result"
    }
   ],
   "source": [
    "df.head()"
   ]
  },
  {
   "cell_type": "code",
   "execution_count": 14,
   "metadata": {},
   "outputs": [
    {
     "name": "stdout",
     "output_type": "stream",
     "text": [
      "<class 'pandas.core.frame.DataFrame'>\n",
      "RangeIndex: 1602663 entries, 0 to 1602662\n",
      "Data columns (total 9 columns):\n",
      " #   Column     Non-Null Count    Dtype  \n",
      "---  ------     --------------    -----  \n",
      " 0   UF_ZI      1602663 non-null  int64  \n",
      " 1   ANO_CMPT   1602663 non-null  int64  \n",
      " 2   MES_CMPT   1602663 non-null  int64  \n",
      " 3   CEP        1602663 non-null  int64  \n",
      " 4   MUNIC_RES  1602663 non-null  int64  \n",
      " 5   SEXO       1602662 non-null  float64\n",
      " 6   IDADE      1602662 non-null  float64\n",
      " 7   CID_NOTIF  1056 non-null     object \n",
      " 8   VAL_TOT    1602662 non-null  float64\n",
      "dtypes: float64(3), int64(5), object(1)\n",
      "memory usage: 110.0+ MB\n"
     ]
    }
   ],
   "source": [
    "df.info()"
   ]
  },
  {
   "cell_type": "code",
   "execution_count": 3,
   "metadata": {},
   "outputs": [
    {
     "name": "stdout",
     "output_type": "stream",
     "text": [
      "Existem 994 códigos de municípios distintos.\n"
     ]
    }
   ],
   "source": [
    "municipios_diferentes = df['MUNIC_RES'].nunique()\n",
    "print(f'Existem {municipios_diferentes} códigos de municípios distintos.')"
   ]
  },
  {
   "cell_type": "markdown",
   "metadata": {},
   "source": [
    "## Opcional"
   ]
  },
  {
   "cell_type": "markdown",
   "metadata": {},
   "source": [
    "O código do IBGE do município de Maceió é 2704302.  \n",
    "\n",
    "Notamos que o código de Maceió possuí 7 dígitos e os códigos no DataFrame possuem apenas 6 dígitos.\n",
    "\n",
    "Inicialmente, podemos comparar os 6 primeiros dígitos do com os código do DataFrame e remover as demais cidades."
   ]
  },
  {
   "cell_type": "code",
   "execution_count": 4,
   "metadata": {},
   "outputs": [
    {
     "name": "stdout",
     "output_type": "stream",
     "text": [
      "<class 'pandas.core.frame.DataFrame'>\n",
      "Index: 480626 entries, 228 to 1602307\n",
      "Data columns (total 9 columns):\n",
      " #   Column     Non-Null Count   Dtype  \n",
      "---  ------     --------------   -----  \n",
      " 0   UF_ZI      480626 non-null  int64  \n",
      " 1   ANO_CMPT   480626 non-null  int64  \n",
      " 2   MES_CMPT   480626 non-null  int64  \n",
      " 3   CEP        480626 non-null  int64  \n",
      " 4   MUNIC_RES  480626 non-null  int64  \n",
      " 5   SEXO       480626 non-null  float64\n",
      " 6   IDADE      480626 non-null  float64\n",
      " 7   CID_NOTIF  182 non-null     object \n",
      " 8   VAL_TOT    480626 non-null  float64\n",
      "dtypes: float64(3), int64(5), object(1)\n",
      "memory usage: 36.7+ MB\n"
     ]
    }
   ],
   "source": [
    "df1 = df[df['MUNIC_RES'] == 270430]\n",
    "df1.info()"
   ]
  },
  {
   "cell_type": "markdown",
   "metadata": {},
   "source": [
    "Dentro desses 480.626 linhas, podem existir municípios que não são Maceió.\n",
    "\n",
    "Utilizando o CEP, podemos filtrar isso um pouco mais."
   ]
  },
  {
   "cell_type": "code",
   "execution_count": 26,
   "metadata": {},
   "outputs": [
    {
     "name": "stdout",
     "output_type": "stream",
     "text": [
      "Existem 7115 CEPs distintos.\n"
     ]
    }
   ],
   "source": [
    "ceps_diferentes = df1['CEP'].nunique()\n",
    "print(f'Existem {ceps_diferentes} CEPs distintos.')\n",
    "\n",
    "CEPs = df1['CEP'].unique().tolist()"
   ]
  },
  {
   "cell_type": "markdown",
   "metadata": {},
   "source": [
    "Poderiamos consultar esses CEPs em uma API qualquer, mas como os planos gratuítos são bem limitados, vamos ver se conseguimos diminuir esse número.  \n",
    "\n",
    "\n",
    "Através da URL abaixo, podemos verificar que a faixa de CEPs da cidade de Maceió é a seguinte: 57000-001 a 57099-999  \n",
    "https://buscacepinter.correios.com.br/app/faixa_cep_uf_localidade/index.php\n",
    "\n",
    "Sabendo disso, podemos mapear as cidades de nosso DataFrame"
   ]
  },
  {
   "cell_type": "code",
   "execution_count": 44,
   "metadata": {},
   "outputs": [],
   "source": [
    "import math\n",
    "\n",
    "def checkMCZ(CEP):\n",
    "    prefixo = math.floor(CEP/1000)\n",
    "    if prefixo > 57000 and prefixo < 57099: return 'Maceió'\n",
    "    return 'Outras'\n",
    "\n",
    "df1['Cidade'] = df1['CEP'].apply(checkMCZ)"
   ]
  },
  {
   "cell_type": "code",
   "execution_count": 46,
   "metadata": {},
   "outputs": [
    {
     "data": {
      "text/html": [
       "<div>\n",
       "<style scoped>\n",
       "    .dataframe tbody tr th:only-of-type {\n",
       "        vertical-align: middle;\n",
       "    }\n",
       "\n",
       "    .dataframe tbody tr th {\n",
       "        vertical-align: top;\n",
       "    }\n",
       "\n",
       "    .dataframe thead tr th {\n",
       "        text-align: left;\n",
       "    }\n",
       "\n",
       "    .dataframe thead tr:last-of-type th {\n",
       "        text-align: right;\n",
       "    }\n",
       "</style>\n",
       "<table border=\"1\" class=\"dataframe\">\n",
       "  <thead>\n",
       "    <tr>\n",
       "      <th></th>\n",
       "      <th colspan=\"2\" halign=\"left\">CEP</th>\n",
       "    </tr>\n",
       "    <tr>\n",
       "      <th></th>\n",
       "      <th>count</th>\n",
       "      <th>nunique</th>\n",
       "    </tr>\n",
       "    <tr>\n",
       "      <th>Cidade</th>\n",
       "      <th></th>\n",
       "      <th></th>\n",
       "    </tr>\n",
       "  </thead>\n",
       "  <tbody>\n",
       "    <tr>\n",
       "      <th>Maceió</th>\n",
       "      <td>480619</td>\n",
       "      <td>7114</td>\n",
       "    </tr>\n",
       "    <tr>\n",
       "      <th>Outras</th>\n",
       "      <td>7</td>\n",
       "      <td>1</td>\n",
       "    </tr>\n",
       "  </tbody>\n",
       "</table>\n",
       "</div>"
      ],
      "text/plain": [
       "           CEP        \n",
       "         count nunique\n",
       "Cidade                \n",
       "Maceió  480619    7114\n",
       "Outras       7       1"
      ]
     },
     "execution_count": 46,
     "metadata": {},
     "output_type": "execute_result"
    }
   ],
   "source": [
    "count_and_distinct = { 'CEP': ['count', 'nunique'] }\n",
    "\n",
    "df1[['CEP', 'Cidade']].groupby(by='Cidade').agg(count_and_distinct)"
   ]
  },
  {
   "cell_type": "markdown",
   "metadata": {},
   "source": [
    "O resultado acima nos leva a acreditar que existem 7114 CEPs pertencentes a Maceió e apenas 1 CEP de outra cidade."
   ]
  },
  {
   "cell_type": "code",
   "execution_count": 47,
   "metadata": {},
   "outputs": [
    {
     "name": "stdout",
     "output_type": "stream",
     "text": [
      "<class 'pandas.core.frame.DataFrame'>\n",
      "Index: 480619 entries, 228 to 1602307\n",
      "Data columns (total 11 columns):\n",
      " #   Column     Non-Null Count   Dtype  \n",
      "---  ------     --------------   -----  \n",
      " 0   UF_ZI      480619 non-null  int64  \n",
      " 1   ANO_CMPT   480619 non-null  int64  \n",
      " 2   MES_CMPT   480619 non-null  int64  \n",
      " 3   CEP        480619 non-null  int64  \n",
      " 4   MUNIC_RES  480619 non-null  int64  \n",
      " 5   SEXO       480619 non-null  float64\n",
      " 6   IDADE      480619 non-null  float64\n",
      " 7   CID_NOTIF  182 non-null     object \n",
      " 8   VAL_TOT    480619 non-null  float64\n",
      " 9   MCZ        480619 non-null  object \n",
      " 10  Cidade     480619 non-null  object \n",
      "dtypes: float64(3), int64(5), object(3)\n",
      "memory usage: 44.0+ MB\n"
     ]
    }
   ],
   "source": [
    "somente_MCZ = df1['Cidade'] == 'Maceió'\n",
    "\n",
    "df2 = df1[somente_MCZ]\n",
    "\n",
    "df2.info()"
   ]
  },
  {
   "cell_type": "markdown",
   "metadata": {},
   "source": [
    "Observação: Eu notei que eu poderia ter simplesmente pulado a filtragem através MUNIC_RES, portanto estou marcando essa parte como opcional."
   ]
  },
  {
   "cell_type": "markdown",
   "metadata": {},
   "source": [
    "## Filtrando apenas Maceió\n",
    "\n",
    "Faixa de CEPs da cidade de Maceió é a seguinte: \n",
    "- 57000-001 a 57099-999 ¹\n",
    "\n",
    "Sabendo disso, podemos filtrar apenas Maceió através da coluna de CEP.  \n",
    "\n",
    "<sup><sub>¹ Dados obtidos em https://buscacepinter.correios.com.br/app/faixa_cep_uf_localidade/index.php</sub></sup>"
   ]
  },
  {
   "cell_type": "code",
   "execution_count": 48,
   "metadata": {},
   "outputs": [
    {
     "name": "stdout",
     "output_type": "stream",
     "text": [
      "<class 'pandas.core.frame.DataFrame'>\n",
      "Index: 480619 entries, 228 to 1602307\n",
      "Data columns (total 10 columns):\n",
      " #   Column     Non-Null Count   Dtype  \n",
      "---  ------     --------------   -----  \n",
      " 0   UF_ZI      480619 non-null  int64  \n",
      " 1   ANO_CMPT   480619 non-null  int64  \n",
      " 2   MES_CMPT   480619 non-null  int64  \n",
      " 3   CEP        480619 non-null  int64  \n",
      " 4   MUNIC_RES  480619 non-null  int64  \n",
      " 5   SEXO       480619 non-null  float64\n",
      " 6   IDADE      480619 non-null  float64\n",
      " 7   CID_NOTIF  182 non-null     object \n",
      " 8   VAL_TOT    480619 non-null  float64\n",
      " 9   Cidade     480619 non-null  object \n",
      "dtypes: float64(3), int64(5), object(2)\n",
      "memory usage: 40.3+ MB\n"
     ]
    }
   ],
   "source": [
    "import math\n",
    "\n",
    "def checkMCZ(CEP):\n",
    "    prefixo = math.floor(CEP/1000)\n",
    "    if prefixo > 57000 and prefixo < 57099: return 'Maceió'\n",
    "    return 'Outras'\n",
    "\n",
    "df['Cidade'] = df['CEP'].apply(checkMCZ)\n",
    "\n",
    "somente_MCZ = df['Cidade'] == 'Maceió'\n",
    "\n",
    "df1 = df[somente_MCZ]\n",
    "\n",
    "df1.info()"
   ]
  },
  {
   "cell_type": "code",
   "execution_count": 51,
   "metadata": {},
   "outputs": [
    {
     "data": {
      "text/html": [
       "<div>\n",
       "<style scoped>\n",
       "    .dataframe tbody tr th:only-of-type {\n",
       "        vertical-align: middle;\n",
       "    }\n",
       "\n",
       "    .dataframe tbody tr th {\n",
       "        vertical-align: top;\n",
       "    }\n",
       "\n",
       "    .dataframe thead th {\n",
       "        text-align: right;\n",
       "    }\n",
       "</style>\n",
       "<table border=\"1\" class=\"dataframe\">\n",
       "  <thead>\n",
       "    <tr style=\"text-align: right;\">\n",
       "      <th></th>\n",
       "      <th>UF_ZI</th>\n",
       "      <th>ANO_CMPT</th>\n",
       "      <th>MES_CMPT</th>\n",
       "      <th>CEP</th>\n",
       "      <th>MUNIC_RES</th>\n",
       "      <th>SEXO</th>\n",
       "      <th>IDADE</th>\n",
       "      <th>VAL_TOT</th>\n",
       "      <th>Cidade</th>\n",
       "    </tr>\n",
       "    <tr>\n",
       "      <th>CID_NOTIF</th>\n",
       "      <th></th>\n",
       "      <th></th>\n",
       "      <th></th>\n",
       "      <th></th>\n",
       "      <th></th>\n",
       "      <th></th>\n",
       "      <th></th>\n",
       "      <th></th>\n",
       "      <th></th>\n",
       "    </tr>\n",
       "  </thead>\n",
       "  <tbody>\n",
       "    <tr>\n",
       "      <th>O101</th>\n",
       "      <td>3</td>\n",
       "      <td>3</td>\n",
       "      <td>3</td>\n",
       "      <td>3</td>\n",
       "      <td>3</td>\n",
       "      <td>3</td>\n",
       "      <td>3</td>\n",
       "      <td>3</td>\n",
       "      <td>3</td>\n",
       "    </tr>\n",
       "    <tr>\n",
       "      <th>O102</th>\n",
       "      <td>1</td>\n",
       "      <td>1</td>\n",
       "      <td>1</td>\n",
       "      <td>1</td>\n",
       "      <td>1</td>\n",
       "      <td>1</td>\n",
       "      <td>1</td>\n",
       "      <td>1</td>\n",
       "      <td>1</td>\n",
       "    </tr>\n",
       "    <tr>\n",
       "      <th>O140</th>\n",
       "      <td>1</td>\n",
       "      <td>1</td>\n",
       "      <td>1</td>\n",
       "      <td>1</td>\n",
       "      <td>1</td>\n",
       "      <td>1</td>\n",
       "      <td>1</td>\n",
       "      <td>1</td>\n",
       "      <td>1</td>\n",
       "    </tr>\n",
       "    <tr>\n",
       "      <th>O993</th>\n",
       "      <td>1</td>\n",
       "      <td>1</td>\n",
       "      <td>1</td>\n",
       "      <td>1</td>\n",
       "      <td>1</td>\n",
       "      <td>1</td>\n",
       "      <td>1</td>\n",
       "      <td>1</td>\n",
       "      <td>1</td>\n",
       "    </tr>\n",
       "    <tr>\n",
       "      <th>Z302</th>\n",
       "      <td>176</td>\n",
       "      <td>176</td>\n",
       "      <td>176</td>\n",
       "      <td>176</td>\n",
       "      <td>176</td>\n",
       "      <td>176</td>\n",
       "      <td>176</td>\n",
       "      <td>176</td>\n",
       "      <td>176</td>\n",
       "    </tr>\n",
       "  </tbody>\n",
       "</table>\n",
       "</div>"
      ],
      "text/plain": [
       "           UF_ZI  ANO_CMPT  MES_CMPT  CEP  MUNIC_RES  SEXO  IDADE  VAL_TOT  \\\n",
       "CID_NOTIF                                                                    \n",
       "O101           3         3         3    3          3     3      3        3   \n",
       "O102           1         1         1    1          1     1      1        1   \n",
       "O140           1         1         1    1          1     1      1        1   \n",
       "O993           1         1         1    1          1     1      1        1   \n",
       "Z302         176       176       176  176        176   176    176      176   \n",
       "\n",
       "           Cidade  \n",
       "CID_NOTIF          \n",
       "O101            3  \n",
       "O102            1  \n",
       "O140            1  \n",
       "O993            1  \n",
       "Z302          176  "
      ]
     },
     "execution_count": 51,
     "metadata": {},
     "output_type": "execute_result"
    }
   ],
   "source": [
    "df1.groupby(by='CID_NOTIF').count()"
   ]
  }
 ],
 "metadata": {
  "kernelspec": {
   "display_name": ".venv",
   "language": "python",
   "name": "python3"
  },
  "language_info": {
   "codemirror_mode": {
    "name": "ipython",
    "version": 3
   },
   "file_extension": ".py",
   "mimetype": "text/x-python",
   "name": "python",
   "nbconvert_exporter": "python",
   "pygments_lexer": "ipython3",
   "version": "3.11.4"
  },
  "orig_nbformat": 4
 },
 "nbformat": 4,
 "nbformat_minor": 2
}
